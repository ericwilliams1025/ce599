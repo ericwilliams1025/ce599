{
 "cells": [
  {
   "cell_type": "markdown",
   "metadata": {},
   "source": [
    "# Session 1: Introduction to Course, Jupyter Notebooks, and Python\n",
    "## Course Overview\n",
    "\n",
    "This course is intended to provide students with the basic skills to become independently able to write your own code and to leverage open source libraries in Python, data science, and web mapping to do your own data processing, analysis, and mapping.  It is not a traditional GIS course, and relies heavily on free, open source, software.  Why?  Because the explosion of open source tools in the past decade has made it possible for anyone with a willingnes to put in a modest amount of effort to learn how to leverage these tools and build their own, without depending on expensive commercial software.  \n",
    "\n",
    "Ove the course of this semester, we plan to cover:\n",
    "\n",
    "* Fundamentals of programming and data wrangling with Python\n",
    "* Dava visualizatoin\n",
    "* Applied statistical modeling and interpretation\n",
    "* Identifying and perpetuating intellectually honest analysis\n",
    "\n",
    "The course is structured as a computer lab based course and each session you will follow along with the lecture and generally also do some experimentation with what we are learning that day.  We will use these Jupyter Notebooks to contain lecture notes and code to demonstrate and to experiment with in class and outside of it.  You should install the software used in the course on a computer of your own to be able to work with it outside of the computer lab.\n",
    "\n",
    "We pace the learning by scheduling a series of exercises, with generally a week to complete them.  These exercises are front-loaded in the semester to build up your skills and confidence.  To gain more independent skills and experience in applying these to problems that are of interest to you, we have a semester project assignment. Projects ensure that you learn these skills with enough independence to become self-sufficient and able to continue building your skills on your own. "
   ]
  },
  {
   "cell_type": "markdown",
   "metadata": {},
   "source": [
    "The course materials are all online in github.  You will generally begin each class by accessing the materials for that day, downloading them to your computer (either the lab computer or your own laptop), and opening the interactive Jupyter notebook that contains the notes and code for the session.  We will try to incorporate some experimentation into the class sessions, so you can get a better grasp of the material by experimenting with it.\n",
    "\n",
    "This first session will cover the basics of Python, and introduce elements that will help you get familiar with Python as an interactive computational environment for exploring data.  The material is presented in an interactive environment that runs within your web browser, called a Jupyter Notebook.  It allows presentation of text and graphics to be combined with Python code that can be run interactively, with the results appearing inline.  We are looking at a Jupyter notebook now.  Note that Jupyter is a relatively recent name for this so sometimes you may still see it referred to as an IPython noteboook.  Jupyter is just the new version of IPython notebooks, but now also supports a variety of other languages and tools.  "
   ]
  },
  {
   "cell_type": "markdown",
   "metadata": {
    "slideshow": {
     "slide_type": "-"
    }
   },
   "source": [
    "\n",
    "## Jupyter Notebooks\n",
    "\n",
    "Let's start by getting familiar with the Jupyter Notebook and how it works.\n",
    "\n",
    "### Launching a Jupyter Notebook at the Command Prompt\n",
    "\n",
    "\n",
    "To begin using a Jupyter Notebook, you need to launch a command prompt (or command shell).  If you don't know what this is, you'll need to get familiar with the command prompt and navigating around on your computer using change directory commands, in order to be able to launch the notebook. In Windows, there are multiple ways to open a command prompt - nicely explained here: http://www.howtogeek.com/235101/10-ways-to-open-the-command-prompt-in-windows-10/. \n",
    "\n",
    "On a mac, you can launch the terminal app.  Once you have a shell, navigate (change directory) to whatever directory you want to work in. If you haven't learned how to use a command prompt in windows, this is a good reference for the command prompt in Windows: http://dosprompt.info/. On a mac, the syntax is a bit different since it is based on Linux.  Here is a reference for commands on the mac: http://ss64.com/osx/, or a simpler version here: http://www.dummies.com/how-to/content/how-to-use-basic-unix-commands-to-work-in-terminal.html. You'll need to use the command prompt from the beginning, so get comfortable with basic commands this week if you are not already.\n",
    "\n",
    "Download this notebook from the link in the calendar event for this session on the class bspace site.  Save it to disk somewhere, like Downloads, or some other location (but just remember where you put it).  At the command prompt, cd to that location, and type:\n",
    "\n",
    "jupyter notebook\n",
    "\n",
    "### Using Jupyter Notebooks\n",
    "\n",
    "Once you launch the Jupyter Notebook, and the Notebook opens up in your browser, you will be looking at a directory of the folder you were in when you launched the notebook.  you can either load an existing notebook if you see one in the directory, or create a new one.  If you changed directory to the correct location, you should already see this notebook in the directory in the Jupyter Notebook:\n",
    "\n",
    "**Introduction-to-jupyter-notebooks-and-python.ipynb**\n",
    "\n",
    "The ipynb is a reference to the older name of IPython Notebook for the Jupyter notebooks.\n",
    "\n",
    "If you click on this entry in the directory within the Jupyter Notebook, another tab will be created in your browser, containing this notebook, ready to use.  Go ahead and do that.\n",
    "\n",
    "Note that it has cells, that contain text (until farther down in the notebook).  These are markdown cells.  Notice the pulldown list for the cell type contains:\n",
    "\n",
    "* Code -- which we will use for Python code mainly, though it could use other languages\n",
    "* Markdown, like this cell, using a flavor of structured text like that used in Wikipedia and many other platforms\n",
    "* Other options will appear depending on what else is installed for use with Jupyter, like kernels for Scala, R, Octave, etc.\n",
    "\n",
    "You can edit the contents of a cell by double-clicking on it.  Try it on this cell.\n",
    "\n",
    "When you are ready to save it or exit edit mode, just use Shift-Enter.\n",
    "\n",
    "We will see how the code cells work next, in the context of learning a bit about the Python programming language.\n",
    "\n",
    "Before going on to that, though, just note that you can use Markdown syntax to format your text.  Documentation on the markdown syntax is available here: http://jupyter-notebook.readthedocs.io/en/latest/examples/Notebook/Working%20With%20Markdown%20Cells.html\n",
    "\n",
    "You can also use LaTeX syntax to enter math or create symbols in your Markdown cells:\n",
    "\n",
    "$y = \\alpha + \\beta X $\n",
    "\n",
    "$c = \\sqrt{a^2 + b^2}$\n",
    "\n",
    "Cells can also contain programs, or code.  We will be using Python code extensively in this course.  The next cell contains a Python command, and that command can be executed in the Notebook by clicking Shift-Enter on the cell, or selecting Cell/Run Cells from the menu, or clicking on the Run icon  (left of the black square), on the toolbar.  Notice that it executes the command and writes the output below the cell.\n"
   ]
  },
  {
   "cell_type": "code",
   "execution_count": 2,
   "metadata": {},
   "outputs": [
    {
     "data": {
      "text/plain": [
       "9.899494936611665"
      ]
     },
     "execution_count": 2,
     "metadata": {},
     "output_type": "execute_result"
    }
   ],
   "source": [
    "import math as m \n",
    "m.sqrt(98)"
   ]
  },
  {
   "cell_type": "code",
   "execution_count": 4,
   "metadata": {},
   "outputs": [
    {
     "data": {
      "text/plain": [
       "3.141592653589793"
      ]
     },
     "execution_count": 4,
     "metadata": {},
     "output_type": "execute_result"
    }
   ],
   "source": [
    "m.pi"
   ]
  },
  {
   "cell_type": "markdown",
   "metadata": {},
   "source": [
    "## Python\n",
    "\n",
    "Python is an interpreted programming language, also referred to as a *high-level language*, or as a scripting language.  What this means is that when you write some commands, or statements that are meaningful in the Python language, the Python 'interpreter' reads the command, figures out what the intended computation is, and then executes it.  This differs from *low-level* languages like C or C++, in which you generally have to compile code  before you can run it, and if you find errors they have to be diagnosed and then the code re-compiled before you can run it.  Interpreted languages skip the compile step, and just execute code directly, and if there are errors, they are seen at run-time.  "
   ]
  },
  {
   "cell_type": "markdown",
   "metadata": {},
   "source": [
    "### Installing Anaconda Python Bundle with Jupyter\n",
    "\n",
    "In the computer lab we have already installed all the software you need for this course.  I recommend that you also install Python on your own computer.  Please use the following installer to make things as consistent as possible with the environment in class.\n",
    "\n",
    "The Anaconda Python installer from Continuum Analytics contains most of the libraries we will use. You can find it here:\n",
    "https://store.continuum.io/cshop/anaconda/\n",
    "\n",
    "You will find installers for each operating system, and versions for Python 2.7 and 3.5.  We **highly** recommend using 3.5, and we will be using 3.5 in class, so you will be less likely to be tripped up by small differences in syntax if you do the same.\n",
    "\n",
    "It is free - they just ask for your email address. In fact, virtually all the software we will use in this class is open source and free (as in no cost).\n",
    "\n",
    "Python runs on Windows, OSX, and Linux, so regardless of what computer you are using, it will most likely run on it.  And having Python installed on your computer is a good way to make it easier to practice on your own, without having to find time to come in to use the computer lab.  "
   ]
  },
  {
   "cell_type": "markdown",
   "metadata": {},
   "source": [
    "### Python Interpreter Environments\n",
    "\n",
    "When we write and execute Python code, we generally do that within an environment known as an Interpreter. Python interpreter and editing environments can be quite varied. Some options include:\n",
    "\n",
    "1. Starting Python at the command line, by typing 'python' at the command prompt (c:\\ on windows, for example)\n",
    "1. Starting an editor that can edit and run Python, like Idle, which comes built-in with Python,or programming editors like Scite.\n",
    "1. The way we will generally interact with Python is through Jupyter Notebooks like this one, that provide a Python environment that runs in your web browser.  This is the environment you are looking at now, with a mixture of headings, text, and code embedded in a Jupyter Notebook."
   ]
  },
  {
   "cell_type": "markdown",
   "metadata": {},
   "source": [
    "## Hello World!"
   ]
  },
  {
   "cell_type": "markdown",
   "metadata": {},
   "source": [
    "The first programming command demonstrated when you are learning a programming language is usually to make the computer print 'Hello World!'.  In Python, doing this is pretty simple:"
   ]
  },
  {
   "cell_type": "code",
   "execution_count": 4,
   "metadata": {},
   "outputs": [
    {
     "name": "stdout",
     "output_type": "stream",
     "text": [
      "Hello World!\n"
     ]
    }
   ],
   "source": [
    "print(\"Hello World!\")"
   ]
  },
  {
   "cell_type": "markdown",
   "metadata": {},
   "source": [
    "As you can see, there is not much code involved in making this happen.  The word 'print' is a command that Python knows how to process, and the text string 'Hello World!' in quotations is an *argument* being passes to the print command.  You can of course pass any kind of argument to the Python print command, and it will try to *do the right thing* without you having to micro-manage the process."
   ]
  },
  {
   "cell_type": "markdown",
   "metadata": {},
   "source": [
    "## Python as an Interactive Calculator"
   ]
  },
  {
   "cell_type": "markdown",
   "metadata": {},
   "source": [
    "Python can be used as a simple interactive calculator, by just typing in a mathematical expression as you might on a regular or scientific calculator:"
   ]
  },
  {
   "cell_type": "code",
   "execution_count": 5,
   "metadata": {},
   "outputs": [
    {
     "data": {
      "text/plain": [
       "4"
      ]
     },
     "execution_count": 5,
     "metadata": {},
     "output_type": "execute_result"
    }
   ],
   "source": [
    "2+2"
   ]
  },
  {
   "cell_type": "markdown",
   "metadata": {},
   "source": [
    "What happened above is that Python interpreted the line '2+2' to parse that it should understand the first object it encountered as an integer, the second object as a mathematical operator for addition, and the third as another integer.  Python's interpreter mostly just tries to figure out what you mean when you write statements like this, and as long as it is unambiguous and feasible to compute, it just does it without you having to explain things in detail.\n",
    "\n",
    "You can of course use any kinds of numbers -- integers or floating point numbers with decimal places, and any standard mathematical operators, and most of the time you get what you expect:"
   ]
  },
  {
   "cell_type": "code",
   "execution_count": 5,
   "metadata": {},
   "outputs": [
    {
     "data": {
      "text/plain": [
       "12.8"
      ]
     },
     "execution_count": 5,
     "metadata": {},
     "output_type": "execute_result"
    }
   ],
   "source": [
    "3.2*4\n"
   ]
  },
  {
   "cell_type": "code",
   "execution_count": 6,
   "metadata": {},
   "outputs": [
    {
     "data": {
      "text/plain": [
       "81"
      ]
     },
     "execution_count": 6,
     "metadata": {},
     "output_type": "execute_result"
    }
   ],
   "source": [
    "3**4"
   ]
  },
  {
   "cell_type": "markdown",
   "metadata": {},
   "source": [
    "### A Note on Calculating with Different Data Types"
   ]
  },
  {
   "cell_type": "markdown",
   "metadata": {},
   "source": [
    "But not always.  What happens if we divide 11 by 3? "
   ]
  },
  {
   "cell_type": "code",
   "execution_count": null,
   "metadata": {},
   "outputs": [],
   "source": [
    "11/3"
   ]
  },
  {
   "cell_type": "markdown",
   "metadata": {},
   "source": [
    "If you are using Python 3.x, you get a floating point result as you would expect.  In Python 2.x versions, you get a truncated integer division, returning a result of 3.  In Python 2 if you wanted to get the result with decimals you had to make one of the operators a floating point number like this:"
   ]
  },
  {
   "cell_type": "code",
   "execution_count": null,
   "metadata": {},
   "outputs": [],
   "source": [
    "11./3"
   ]
  },
  {
   "cell_type": "markdown",
   "metadata": {},
   "source": [
    "## The Pylab Interactive Plotting Environment"
   ]
  },
  {
   "cell_type": "markdown",
   "metadata": {},
   "source": [
    "OK, so maybe using Python as an interactive calculator is not the most compelling case for using Python, even if it does demonstrate that Python has a very shallow learning curve for someone completely new to programming.  You can actually begin using it productively even before learning how to program in it!\n",
    "\n",
    "To give a preview of somewhat more advanced topics, let's look at the interactive plotting mode in Jupyter that we can invoke by using 'magic' commands, and importing some modules: "
   ]
  },
  {
   "cell_type": "code",
   "execution_count": 7,
   "metadata": {},
   "outputs": [],
   "source": [
    "#magic command to display matplotlib plots inline within the Jupyter notebook webpage\n",
    "%matplotlib inline\n",
    "#import necessary modules\n",
    "import pandas as pd, numpy as np, matplotlib.pyplot as plt"
   ]
  },
  {
   "cell_type": "markdown",
   "metadata": {},
   "source": [
    "This loads pandas and numpy and the matplotlib plotting environment.  We'll come back to these libraries in more detail later, but now let's look at how they allow us to extend the range of things we can do.  Let's assign 1,000 sequential numbers to a variable labeled x, and create another variable, y, that has some transformation of x, and then plot y against x:"
   ]
  },
  {
   "cell_type": "code",
   "execution_count": 8,
   "metadata": {},
   "outputs": [
    {
     "data": {
      "text/plain": [
       "[<matplotlib.lines.Line2D at 0x7fb22cdd4fa0>]"
      ]
     },
     "execution_count": 8,
     "metadata": {},
     "output_type": "execute_result"
    },
    {
     "data": {
      "image/png": "[encoded data removed]",
      "text/plain": [
       "<Figure size 432x288 with 1 Axes>"
      ]
     },
     "metadata": {
      "needs_background": "light"
     },
     "output_type": "display_data"
    }
   ],
   "source": [
    "x=range(100)\n",
    "y=np.sin(x)\n",
    "plt.plot(x+y)"
   ]
  },
  {
   "cell_type": "markdown",
   "metadata": {},
   "source": [
    "Or here is how we could draw 1,000 random numbers from a normal distribution, and plot the results as a frequency histogram:"
   ]
  },
  {
   "cell_type": "code",
   "execution_count": 9,
   "metadata": {},
   "outputs": [
    {
     "data": {
      "text/plain": [
       "(array([ 1.,  0.,  0.,  1.,  0.,  0.,  1.,  3.,  0.,  4.,  5.,  4.,  4.,\n",
       "         6., 11., 16., 10., 15., 22., 24., 32., 36., 43., 37., 57., 49.,\n",
       "        51., 52., 52., 53., 44., 51., 46., 33., 51., 36., 33., 22., 16.,\n",
       "        16., 15., 10., 11.,  9.,  7.,  5.,  2.,  3.,  0.,  1.]),\n",
       " array([-3.68726626, -3.55903178, -3.43079729, -3.3025628 , -3.17432831,\n",
       "        -3.04609383, -2.91785934, -2.78962485, -2.66139036, -2.53315587,\n",
       "        -2.40492139, -2.2766869 , -2.14845241, -2.02021792, -1.89198344,\n",
       "        -1.76374895, -1.63551446, -1.50727997, -1.37904549, -1.250811  ,\n",
       "        -1.12257651, -0.99434202, -0.86610754, -0.73787305, -0.60963856,\n",
       "        -0.48140407, -0.35316959, -0.2249351 , -0.09670061,  0.03153388,\n",
       "         0.15976836,  0.28800285,  0.41623734,  0.54447183,  0.67270631,\n",
       "         0.8009408 ,  0.92917529,  1.05740978,  1.18564427,  1.31387875,\n",
       "         1.44211324,  1.57034773,  1.69858222,  1.8268167 ,  1.95505119,\n",
       "         2.08328568,  2.21152017,  2.33975465,  2.46798914,  2.59622363,\n",
       "         2.72445812]),\n",
       " <BarContainer object of 50 artists>)"
      ]
     },
     "execution_count": 9,
     "metadata": {},
     "output_type": "execute_result"
    },
    {
     "data": {
      "image/png": "[encoded data removed]",
      "text/plain": [
       "<Figure size 432x288 with 1 Axes>"
      ]
     },
     "metadata": {
      "needs_background": "light"
     },
     "output_type": "display_data"
    }
   ],
   "source": [
    "x = np.random.randn(1000)\n",
    "plt.hist(x, bins=50)\n"
   ]
  },
  {
   "cell_type": "markdown",
   "metadata": {},
   "source": [
    "## Getting Some Help"
   ]
  },
  {
   "cell_type": "markdown",
   "metadata": {},
   "source": [
    "A couple of things that IPython does to help you be more productive are useful to introduce here.  One is called tab-completion.  If you can't quite remember the full name of a function, or it is really long and you don't like to type much, you can type the first few characters, and hit the tab key, and the options that begin with those first few characters show up on a menu.\n",
    "\n",
    "The other thing you can make a lot of use of is help!  Is you want to know more about how a method or function works, type the name of the function followed by a question mark. For example, if we wanted to see how to confogure the hist command, we could do:"
   ]
  },
  {
   "cell_type": "code",
   "execution_count": 10,
   "metadata": {},
   "outputs": [],
   "source": [
    "plt.hist?\n"
   ]
  },
  {
   "cell_type": "code",
   "execution_count": null,
   "metadata": {
    "collapsed": true
   },
   "outputs": [],
   "source": [
    "plt.margins?"
   ]
  },
  {
   "cell_type": "markdown",
   "metadata": {},
   "source": [
    "This brings up help text for this command, in a split window in the IPython Notebook.  After you read the help, you can minimize the help window by dragging the divider down to the bottom of the Notebook window."
   ]
  },
  {
   "cell_type": "markdown",
   "metadata": {},
   "source": [
    "## What is a Program?"
   ]
  },
  {
   "cell_type": "markdown",
   "metadata": {},
   "source": [
    "As Allen Downey explains in Think Python, the main elements of a program are:\n",
    "\n",
    "**input**: Get data from the keyboard, a ﬁle, or some other device.\n",
    "\n",
    "**output**: Display data on the screen or send data to a ﬁle or other device.\n",
    "\n",
    "**math**: Perform basic mathematical operations like addition and multiplication.\n",
    "\n",
    "**conditional execution**: Check for certain conditions and execute the appropriate code.\n",
    "\n",
    "**repetition**: Perform some action repeatedly, usually with some variation.\n",
    "\n",
    "These are common steps that you will find to be a generic recipe for many programs, whether written in Python or any other language."
   ]
  },
  {
   "cell_type": "markdown",
   "metadata": {},
   "source": [
    "## The Basic Data Types"
   ]
  },
  {
   "cell_type": "markdown",
   "metadata": {},
   "source": [
    "Data in Python is interpreted as having a **type**.  In low-level, compiled languages like C or C++, the programmer has to explicitly declare the type of each variable before actually using it.  In Python, the type is inferred at run time, and you can always ask Python what the type of an object is:"
   ]
  },
  {
   "cell_type": "code",
   "execution_count": 11,
   "metadata": {},
   "outputs": [
    {
     "name": "stdout",
     "output_type": "stream",
     "text": [
      "<class 'int'>\n"
     ]
    }
   ],
   "source": [
    "a = 13\n",
    "print (type(a))"
   ]
  },
  {
   "cell_type": "code",
   "execution_count": 12,
   "metadata": {},
   "outputs": [
    {
     "name": "stdout",
     "output_type": "stream",
     "text": [
      "<class 'float'>\n"
     ]
    }
   ],
   "source": [
    "a = a*1.1\n",
    "print (type(a))"
   ]
  },
  {
   "cell_type": "code",
   "execution_count": 13,
   "metadata": {},
   "outputs": [
    {
     "name": "stdout",
     "output_type": "stream",
     "text": [
      "<class 'str'>\n"
     ]
    }
   ],
   "source": [
    "a = 'Hello World!'\n",
    "print (type(a))"
   ]
  },
  {
   "cell_type": "markdown",
   "metadata": {},
   "source": [
    "Notice that when we multiply a, which was initially an integer, by a floaring point (decimal number) the result is **cast** as a float.  This is like the integer divide problem earlier -- using a floating point number in the calculation causes the result of the calculation to become a floating point number.\n",
    "\n",
    "Notice also that we can reassign any value or type to a variable.  We began with **a** being an integer, then changed its value to a float, and then to a string (text).  Variables are dynamically updated in this way based on values assigned to them."
   ]
  },
  {
   "cell_type": "markdown",
   "metadata": {},
   "source": [
    "## Variables"
   ]
  },
  {
   "cell_type": "markdown",
   "metadata": {},
   "source": [
    "Variables are objects that we want to associate some kind of values to.  They can be of any type: "
   ]
  },
  {
   "cell_type": "code",
   "execution_count": 6,
   "metadata": {},
   "outputs": [
    {
     "data": {
      "text/plain": [
       "'San Francisco'"
      ]
     },
     "execution_count": 6,
     "metadata": {},
     "output_type": "execute_result"
    }
   ],
   "source": [
    "city = 'San Francisco'\n",
    "city"
   ]
  },
  {
   "cell_type": "code",
   "execution_count": 7,
   "metadata": {},
   "outputs": [
    {
     "data": {
      "text/plain": [
       "str"
      ]
     },
     "execution_count": 7,
     "metadata": {},
     "output_type": "execute_result"
    }
   ],
   "source": [
    "type(city)\n"
   ]
  },
  {
   "cell_type": "code",
   "execution_count": 8,
   "metadata": {
    "scrolled": true
   },
   "outputs": [
    {
     "data": {
      "text/plain": [
       "345"
      ]
     },
     "execution_count": 8,
     "metadata": {},
     "output_type": "execute_result"
    }
   ],
   "source": [
    "x = 345\n",
    "x"
   ]
  },
  {
   "cell_type": "code",
   "execution_count": 9,
   "metadata": {},
   "outputs": [
    {
     "data": {
      "text/plain": [
       "int"
      ]
     },
     "execution_count": 9,
     "metadata": {},
     "output_type": "execute_result"
    }
   ],
   "source": [
    "type(x)\n"
   ]
  },
  {
   "cell_type": "code",
   "execution_count": 10,
   "metadata": {},
   "outputs": [
    {
     "data": {
      "text/plain": [
       "2.324"
      ]
     },
     "execution_count": 10,
     "metadata": {},
     "output_type": "execute_result"
    }
   ],
   "source": [
    "y = 2.324\n",
    "y"
   ]
  },
  {
   "cell_type": "code",
   "execution_count": 11,
   "metadata": {},
   "outputs": [
    {
     "data": {
      "text/plain": [
       "float"
      ]
     },
     "execution_count": 11,
     "metadata": {},
     "output_type": "execute_result"
    }
   ],
   "source": [
    "type(y)"
   ]
  },
  {
   "cell_type": "markdown",
   "metadata": {},
   "source": [
    "You can use a lot of names for a variable, but there are exceptions (another word for error!).  Some rules apply.  You can't use Python reserved words, or start with a number, or use nonstandard characters like a copyright symbol.  You'll get an **exception** if you do:"
   ]
  },
  {
   "cell_type": "code",
   "execution_count": 12,
   "metadata": {},
   "outputs": [
    {
     "ename": "SyntaxError",
     "evalue": "invalid syntax (4037902406.py, line 1)",
     "output_type": "error",
     "traceback": [
      "\u001b[0;36m  File \u001b[0;32m\"/var/folders/hr/f9hfmb9j603csl18bqh6x9lh0000gn/T/ipykernel_24709/4037902406.py\"\u001b[0;36m, line \u001b[0;32m1\u001b[0m\n\u001b[0;31m    2x = 24\u001b[0m\n\u001b[0m     ^\u001b[0m\n\u001b[0;31mSyntaxError\u001b[0m\u001b[0;31m:\u001b[0m invalid syntax\n"
     ]
    }
   ],
   "source": [
    "2x = 24"
   ]
  },
  {
   "cell_type": "markdown",
   "metadata": {},
   "source": [
    "And here are the 31 keywords reserved by Python (in version 2), that are ineligible for use as variable names:\n",
    "\n",
    "and, as, assert, break, class, continue, def, del, elif, else, except, exec, finally, for, from, global, if, import, in, is, lambda, not, or, pass, print, raise, return, try, while, with, yield."
   ]
  },
  {
   "cell_type": "markdown",
   "metadata": {},
   "source": [
    "## Operators, Expressions and Statements"
   ]
  },
  {
   "cell_type": "markdown",
   "metadata": {},
   "source": [
    "Operators are symbols used to indicste different operations, mostly mathematical, but some operate on strings also.\n",
    "\n",
    "The obvious ones are +,-,*,/, and \\**, indicating addition, subtraction, multiplication, division and exponentiation."
   ]
  },
  {
   "cell_type": "code",
   "execution_count": 14,
   "metadata": {},
   "outputs": [
    {
     "data": {
      "text/plain": [
       "25"
      ]
     },
     "execution_count": 14,
     "metadata": {},
     "output_type": "execute_result"
    }
   ],
   "source": [
    "5*5"
   ]
  },
  {
   "cell_type": "code",
   "execution_count": 15,
   "metadata": {},
   "outputs": [
    {
     "name": "stdout",
     "output_type": "stream",
     "text": [
      "2.380952380952381\n"
     ]
    }
   ],
   "source": [
    "x = 5\n",
    "x = x/2.1\n",
    "print (x)"
   ]
  },
  {
   "cell_type": "code",
   "execution_count": 16,
   "metadata": {},
   "outputs": [
    {
     "name": "stdout",
     "output_type": "stream",
     "text": [
      "5.668934240362812\n"
     ]
    }
   ],
   "source": [
    "y = x**2\n",
    "print (y)"
   ]
  },
  {
   "cell_type": "markdown",
   "metadata": {},
   "source": [
    "Some of these operators also work on strings, but the behavior is different:"
   ]
  },
  {
   "cell_type": "code",
   "execution_count": 17,
   "metadata": {},
   "outputs": [
    {
     "name": "stdout",
     "output_type": "stream",
     "text": [
      "Lexington, Kentucky\n"
     ]
    }
   ],
   "source": [
    "city = 'Lexington'\n",
    "sep = ', '\n",
    "state = 'Kentucky'\n",
    "location = city+sep+state\n",
    "print (location)"
   ]
  },
  {
   "cell_type": "code",
   "execution_count": 18,
   "metadata": {},
   "outputs": [
    {
     "data": {
      "text/plain": [
       "'LexingtonLexingtonLexingtonLexington'"
      ]
     },
     "execution_count": 18,
     "metadata": {},
     "output_type": "execute_result"
    }
   ],
   "source": [
    "city*4"
   ]
  },
  {
   "cell_type": "markdown",
   "metadata": {},
   "source": [
    "Expressions are combinations of values, variables and operators, like most of the lines in this section.  Statements often include expressions, but unlike expressions they do not always have a value (for example a print statement, and represent a line of code that Python can execute."
   ]
  },
  {
   "cell_type": "markdown",
   "metadata": {},
   "source": [
    "## Python Scripts"
   ]
  },
  {
   "cell_type": "markdown",
   "metadata": {},
   "source": [
    "All the examples we have typed in to the Jupyter Notebook have been statements  evaluated interactively as soon as we type them and execute them with a Shift-Enter.  While this is an excellent way to develop confidence in learning Python, and later for interactively exploring data, it is also often useful or necessary to store statements in a Python script that can be rerun at any time.\n",
    "\n",
    "Python scripts are just text files stored on disk, containing Python statements and comments.  The convention of using **.py** as the suffix for a Python script makes it easy to find and run such scripts and to have the Python interpreter parse the statements and execute them one at a time, from top to bottom, as though they had been entered interactively (there are some minor differences in how the interpreter parses interactive commands as compared to scripts, but we will ignore that for now).\n",
    "\n",
    "Comments are a good thing to add to scripts to provide some documentation of what the script is supposed to do, or how to use the script, or to remind yourself later what you had in mind when you wrote the script.  The convention is to use a # sign at the beginning of the line to indicate that that line is a comment, and not to be parsed and executed by Python.  It does not significantly slow down Python to have to step through comments and ignore them -- so use comments liberally!"
   ]
  },
  {
   "cell_type": "code",
   "execution_count": 19,
   "metadata": {},
   "outputs": [
    {
     "data": {
      "text/plain": [
       "array([11.00736417, 10.90949679, 10.7195636 , 10.7733732 , 10.89629812,\n",
       "       10.02757435, 10.76576874, 11.02265045, 10.94674768, 10.93874173])"
      ]
     },
     "execution_count": 19,
     "metadata": {},
     "output_type": "execute_result"
    }
   ],
   "source": [
    "# This is a comment explaining the code below\n",
    "# which I would not remember in detail later without comments\n",
    "income = 50000.0+10000*np.random.randn(10)\n",
    "y = np.log(income)\n",
    "y"
   ]
  },
  {
   "cell_type": "markdown",
   "metadata": {},
   "source": [
    "You can import and export Python scripts from the IPython Notebook.  Once you have a notebook you want to save as a Python script, you can select 'File', 'Download as', and then 'Python (.py)'.  This will save the code as a Python script that can be reloaded in a Notebook or executed in **Batch** mode, or run from beginning to end sequentially, without waiting for you to execute each cell one by one.\n",
    "\n",
    "Python scripts can be run at the command line by typing python and then the name of the python script you want to run, as in: **c:\\python test.py**. They can also be loaded into an IPython session, such as into a Notebook, and run there.\n",
    "\n",
    "For now, look at the script.  You will see that it is just a text file.  I recommend using a good text editor with syntax highlighting, such as Notepad++.  This is already on the lab machines.  You can right click on the file and select *Edit with Notepad++*.  You can download the program for yourself here: https://notepad-plus-plus.org/\n",
    "\n",
    "Now, open a command prompt, and try running the python script you downloaded.  What happens? \n"
   ]
  },
  {
   "cell_type": "markdown",
   "metadata": {},
   "source": [
    "## In-Class Work\n",
    "\n",
    "Please spend the rest of class familiarizing yourself with the basic python syntax and the jupyter notebook, pivoting from the examples shown in this notebook.  "
   ]
  },
  {
   "cell_type": "markdown",
   "metadata": {},
   "source": [
    "## Exercise 1"
   ]
  },
  {
   "cell_type": "markdown",
   "metadata": {},
   "source": [
    "Please do the following: \n",
    "\n",
    "**1. Install Notepad++ **\n",
    "\n",
    "A good text editor will be very helpful!  Download the installer from here: https://notepad-plus-plus.org/ and familiarize yourself with the basic operation.  \n",
    "\n",
    "\n",
    "**2. Install the Anaconda Python distribution **\n",
    "\n",
    "Download the Anaconda installer for Python 3.5 from https://store.continuum.io/cshop/anaconda/ (Links to an external site.)\n",
    "Make sure you download the correct installer for your operating system (Windows, Mac, Linux, etc) and architecture (32 or 64 bit). If you don't know if your operating system is 32 or 64 bit, Google for how to check it.  And make sure you download the installer for Python 3.5, not 2.7.\n",
    "Run the Anaconda installer.\n",
    "In the Anaconda installer dialog, choose to install for all users, accept the default destination folder (something like c:\\anaconda), and make sure both tick boxes are ticked for \"add anaconda to the system path\" and \"register anaconda as the system python\"\n",
    "Jupyter Notebook\n",
    "\n",
    "**3. Read the quickstart guides ** \n",
    "\n",
    "Read the Anaconda QuickStart guide: https://docs.continuum.io/anaconda/install (Links to an external site.)\n",
    "Read the Jupyter Notebook overview: http://jupyter-notebook.readthedocs.io/en/latest/notebook.html (Links to an external site.) (Links to an external site.)\n",
    "If you're not already comfortable with the command prompt (windows) or terminal (mac), read: http://dosprompt.info/ (Links to an external site.) or http://guides.macrumors.com/Terminal (Links to an external site.) to familiarize yourself with the basic commands (such as changing directories and listing the contents of a directory) discussed in these links so that you can use the command prompt/terminal to access Python.\n",
    "\n",
    "**4. Test your install ** \n",
    "\n",
    "Open your command prompt (windows) or terminal (mac). If you don't know how, just Google it!\n",
    "run: jupyter notebook\n",
    "You should see the Jupyter server running in your browser. Click \"New\" > \"Python 3\"\n",
    "You are now in a new Jupyter notebook. In the first cell, type: print (\"Hello World!\")\n",
    "Hit shift + Enter to run the cell (it should print Hello World if things are working properly)\n",
    "Take a screenshot and save it to your computer. \n",
    "\n",
    "**5. Download this notebook ** \n",
    "\n",
    "Go to: https://github.com/uky-transport-data-science/ce599  Use the green button in the top right to download a zip file of the contents, and unzip it on your computer.  Look around and see what's in there.  Use a command prompt to that folder, and type \n",
    "\n",
    "jupyter notebook\n",
    "\n",
    "Open Introduction-to-jupter-notebooks-and-python.ipynb\n",
    "\n",
    "Work through this notebook.  Make sure you can execute each cell by typing Shift-Enter.  See if the result is logical, and if you understand what is going on in this cell.  As you do this, make a list of three things in the code that you don't understand.  \n",
    "\n",
    "**6. Create a Github account **\n",
    "\n",
    "Go to: https://github.com/, create an account, and add a profile picture.  \n",
    "\n",
    "**7. Install Github Desktop **\n",
    "\n",
    "Go to: https://desktop.github.com/, download it and install it on your computer.  Go to File->Options to sign in with your GitHub account, and to enter your name and email address.  \n",
    "\n",
    "\n",
    "**8. Send me an email **\n",
    "\n",
    "Send the me and the TA email containing:  \n",
    "\n",
    "1. The \"Hello World!\" screenshot. \n",
    "3. Your list of three things in this notebook that you do not understand.  \n",
    "2. Your github username.  \n",
    "\n",
    "When we invite you to join our class Github page, please accept.  \n"
   ]
  },
  {
   "cell_type": "markdown",
   "metadata": {
    "collapsed": true
   },
   "source": [
    "## Grading\n",
    "All excercises are due at 8 am on the day of the next class.  Exercises are graded on a 2-point scale.  You get 1 point for submitting the exercise, and 2 points if you have the correct solution.  \n",
    "\n",
    "If you miss class for any reason, you are still responsible for completing and submitting the exercise.  This class builds upon itself, so it is important that you stay on top of things.  If you get behind, it will be much harder!"
   ]
  },
  {
   "cell_type": "code",
   "execution_count": null,
   "metadata": {
    "collapsed": true
   },
   "outputs": [],
   "source": []
  }
 ],
 "metadata": {
  "anaconda-cloud": {},
  "kernelspec": {
   "display_name": "Python 3 (ipykernel)",
   "language": "python",
   "name": "python3"
  },
  "language_info": {
   "codemirror_mode": {
    "name": "ipython",
    "version": 3
   },
   "file_extension": ".py",
   "mimetype": "text/x-python",
   "name": "python",
   "nbconvert_exporter": "python",
   "pygments_lexer": "ipython3",
   "version": "3.9.7"
  }
 },
 "nbformat": 4,
 "nbformat_minor": 1
}
